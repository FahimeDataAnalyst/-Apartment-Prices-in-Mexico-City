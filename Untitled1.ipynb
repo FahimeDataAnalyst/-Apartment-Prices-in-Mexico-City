{
 "cells": [
  {
   "cell_type": "code",
   "execution_count": 29,
   "id": "174121c2",
   "metadata": {
    "scrolled": true
   },
   "outputs": [],
   "source": [
    "import warnings\n",
    "warnings.simplefilter(action=\"ignore\", category=FutureWarning)\n",
    "from glob import glob\n",
    "import plotly.express as px\n",
    "import matplotlib.pyplot as plt\n",
    "import pandas as pd\n",
    "import seaborn as sns\n",
    "from category_encoders import OneHotEncoder\n",
    "from ipywidgets import Dropdown, FloatSlider, IntSlider, interact\n",
    "from sklearn.impute import SimpleImputer\n",
    "from sklearn.linear_model import LinearRegression, Ridge  # noqa F401\n",
    "from sklearn.metrics import mean_absolute_error\n",
    "from sklearn.pipeline import make_pipeline\n",
    "from sklearn.utils.validation import check_is_fitted"
   ]
  },
  {
   "cell_type": "code",
   "execution_count": 2,
   "id": "29bb4370",
   "metadata": {},
   "outputs": [],
   "source": [
    "# Build your `wrangle` function\n",
    "def wrangle(filepath):\n",
    "    df = pd.read_csv(filepath)\n",
    "    \n",
    "# subset data: apartments in\"Distrito Federal\" that cost less than $100,000\n",
    "    mask_mc = df[\"place_with_parent_names\"].str.contains(\"Distrito Federal\")\n",
    "    mask_apt = df[\"property_type\"] == \"apartment\"\n",
    "    mask_price = df[\"price_aprox_usd\"] < 100_000\n",
    "    df = df[mask_mc & mask_apt & mask_price]\n",
    "    \n",
    "# subset outliers in \"surface_covered_in_m2\"\n",
    "    low, high = df[\"surface_covered_in_m2\"].quantile([0.1, 0.9])\n",
    "    mask_area = df[\"surface_covered_in_m2\"].between(low , high)\n",
    "    df = df[mask_area]\n",
    "    \n",
    "#     split [\"lat-lon\"]\n",
    "    df[[\"lat\" ,\"lon\"]] = df[\"lat-lon\"].str.split(\",\", expand=True).astype(float)\n",
    "    df.drop(columns=\"lat-lon\", inplace=True)\n",
    "    \n",
    "#    extract \"borough\"  \n",
    "    df[\"borough\"]= df[\"place_with_parent_names\"].str.split(\"|\", expand=True)[1]\n",
    "    df.drop(columns=\"place_with_parent_names\", inplace=True)\n",
    "    \n",
    "#     drop features with high null count\n",
    "    df.drop(columns=[\"surface_total_in_m2\", \"price_usd_per_m2\", \"floor\",\"expenses\",\"rooms\"], inplace=True)\n",
    "    \n",
    "#     drop low and high cardinality in categorical values\n",
    "    df.drop(columns=[\"operation\",\"property_type\", \"currency\", \"properati_url\"], inplace=True)\n",
    "    \n",
    "#     drop leakage for the target \"price_aprox_usd\"\n",
    "    df.drop(\n",
    "        columns=[\n",
    "        \"price\",\n",
    "        \"price_aprox_local_currency\",\n",
    "        \"price_per_m2\"\n",
    "        ],\n",
    "        inplace=True\n",
    "    )\n",
    "    #     drop multicollinearity\n",
    "    return df"
   ]
  },
  {
   "cell_type": "code",
   "execution_count": 8,
   "id": "880be986",
   "metadata": {},
   "outputs": [
    {
     "data": {
      "text/plain": [
       "<AxesSubplot: >"
      ]
     },
     "execution_count": 8,
     "metadata": {},
     "output_type": "execute_result"
    },
    {
     "data": {
      "image/png": "[encoded data removed]",
      "text/plain": [
       "<Figure size 640x480 with 2 Axes>"
      ]
     },
     "metadata": {},
     "output_type": "display_data"
    }
   ],
   "source": [
    "df = wrangle(\"E:/Fahimeh pt/Mexico city Appartment price/Mexico city real state1.csv.\")\n",
    "corr = df.select_dtypes(\"number\").drop(columns=\"price_aprox_usd\").corr()\n",
    "sns.heatmap(corr)"
   ]
  },
  {
   "cell_type": "code",
   "execution_count": 17,
   "id": "7c1e560c",
   "metadata": {},
   "outputs": [
    {
     "data": {
      "text/plain": [
       "['E:/Fahimeh pt/Mexico city Appartment price\\\\Mexico city real state 2.csv',\n",
       " 'E:/Fahimeh pt/Mexico city Appartment price\\\\Mexico city real state1.csv',\n",
       " 'E:/Fahimeh pt/Mexico city Appartment price\\\\Mexico city real state3.csv',\n",
       " 'E:/Fahimeh pt/Mexico city Appartment price\\\\Mexico city real state4.csv',\n",
       " 'E:/Fahimeh pt/Mexico city Appartment price\\\\Mexico city real state5.csv']"
      ]
     },
     "execution_count": 17,
     "metadata": {},
     "output_type": "execute_result"
    }
   ],
   "source": [
    "files = glob(\"E:/Fahimeh pt/Mexico city Appartment price/Mexico city real state*.csv\")\n",
    "files"
   ]
  },
  {
   "cell_type": "code",
   "execution_count": 18,
   "id": "809b6bf1",
   "metadata": {},
   "outputs": [
    {
     "name": "stdout",
     "output_type": "stream",
     "text": [
      "<class 'pandas.core.frame.DataFrame'>\n",
      "RangeIndex: 5473 entries, 0 to 5472\n",
      "Data columns (total 6 columns):\n",
      " #   Column                 Non-Null Count  Dtype  \n",
      "---  ------                 --------------  -----  \n",
      " 0   Unnamed: 0             5473 non-null   int64  \n",
      " 1   price_aprox_usd        5473 non-null   float64\n",
      " 2   surface_covered_in_m2  5473 non-null   float64\n",
      " 3   lat                    5149 non-null   float64\n",
      " 4   lon                    5149 non-null   float64\n",
      " 5   borough                5473 non-null   object \n",
      "dtypes: float64(4), int64(1), object(1)\n",
      "memory usage: 256.7+ KB\n",
      "None\n"
     ]
    },
    {
     "data": {
      "text/html": [
       "<div>\n",
       "<style scoped>\n",
       "    .dataframe tbody tr th:only-of-type {\n",
       "        vertical-align: middle;\n",
       "    }\n",
       "\n",
       "    .dataframe tbody tr th {\n",
       "        vertical-align: top;\n",
       "    }\n",
       "\n",
       "    .dataframe thead th {\n",
       "        text-align: right;\n",
       "    }\n",
       "</style>\n",
       "<table border=\"1\" class=\"dataframe\">\n",
       "  <thead>\n",
       "    <tr style=\"text-align: right;\">\n",
       "      <th></th>\n",
       "      <th>Unnamed: 0</th>\n",
       "      <th>price_aprox_usd</th>\n",
       "      <th>surface_covered_in_m2</th>\n",
       "      <th>lat</th>\n",
       "      <th>lon</th>\n",
       "      <th>borough</th>\n",
       "    </tr>\n",
       "  </thead>\n",
       "  <tbody>\n",
       "    <tr>\n",
       "      <th>0</th>\n",
       "      <td>1</td>\n",
       "      <td>63223.78</td>\n",
       "      <td>88.0</td>\n",
       "      <td>19.516777</td>\n",
       "      <td>-99.160149</td>\n",
       "      <td>Gustavo A. Madero</td>\n",
       "    </tr>\n",
       "    <tr>\n",
       "      <th>1</th>\n",
       "      <td>2</td>\n",
       "      <td>25289.51</td>\n",
       "      <td>48.0</td>\n",
       "      <td>19.466724</td>\n",
       "      <td>-99.131614</td>\n",
       "      <td>Gustavo A. Madero</td>\n",
       "    </tr>\n",
       "    <tr>\n",
       "      <th>2</th>\n",
       "      <td>18</td>\n",
       "      <td>89250.90</td>\n",
       "      <td>90.0</td>\n",
       "      <td>19.383327</td>\n",
       "      <td>-99.152712</td>\n",
       "      <td>Benito Ju?rez</td>\n",
       "    </tr>\n",
       "    <tr>\n",
       "      <th>3</th>\n",
       "      <td>20</td>\n",
       "      <td>39887.51</td>\n",
       "      <td>60.0</td>\n",
       "      <td>19.388280</td>\n",
       "      <td>-99.195529</td>\n",
       "      <td>?lvaro Obreg?n</td>\n",
       "    </tr>\n",
       "    <tr>\n",
       "      <th>4</th>\n",
       "      <td>21</td>\n",
       "      <td>42475.37</td>\n",
       "      <td>80.0</td>\n",
       "      <td>19.454582</td>\n",
       "      <td>-99.145651</td>\n",
       "      <td>Cuauhtémoc</td>\n",
       "    </tr>\n",
       "  </tbody>\n",
       "</table>\n",
       "</div>"
      ],
      "text/plain": [
       "   Unnamed: 0  price_aprox_usd  surface_covered_in_m2        lat        lon  \\\n",
       "0           1         63223.78                   88.0  19.516777 -99.160149   \n",
       "1           2         25289.51                   48.0  19.466724 -99.131614   \n",
       "2          18         89250.90                   90.0  19.383327 -99.152712   \n",
       "3          20         39887.51                   60.0  19.388280 -99.195529   \n",
       "4          21         42475.37                   80.0  19.454582 -99.145651   \n",
       "\n",
       "             borough  \n",
       "0  Gustavo A. Madero  \n",
       "1  Gustavo A. Madero  \n",
       "2      Benito Ju?rez  \n",
       "3     ?lvaro Obreg?n  \n",
       "4         Cuauhtémoc  "
      ]
     },
     "execution_count": 18,
     "metadata": {},
     "output_type": "execute_result"
    }
   ],
   "source": [
    "frames = [wrangle(file) for file in files]\n",
    "df = pd.concat(frames, ignore_index=True)\n",
    "print(df.info())\n",
    "df.head()"
   ]
  },
  {
   "cell_type": "code",
   "execution_count": 19,
   "id": "6ae12085",
   "metadata": {},
   "outputs": [],
   "source": [
    "# Split data into feature matrix `X_train` and target vector `y_train`.\n",
    "target = \"price_aprox_usd\"\n",
    "features = [\"surface_covered_in_m2\",\"lat\",\"lon\",\"borough\"]\n",
    "X_train = df[features]\n",
    "y_train = df[target]"
   ]
  },
  {
   "cell_type": "code",
   "execution_count": 20,
   "id": "eb924bfa",
   "metadata": {},
   "outputs": [
    {
     "name": "stdout",
     "output_type": "stream",
     "text": [
      "Mean apt price: 54246.5314982642\n",
      "Baseline MAE: 17239.939475888295\n"
     ]
    }
   ],
   "source": [
    "y_mean = y_train.mean()\n",
    "y_pred_baseline = [y_mean] * len(y_train)\n",
    "baseline_mae = mean_absolute_error(y_train, y_pred_baseline)\n",
    "print(\"Mean apt price:\", y_mean)\n",
    "print(\"Baseline MAE:\", baseline_mae)"
   ]
  },
  {
   "cell_type": "code",
   "execution_count": 30,
   "id": "51713e12",
   "metadata": {},
   "outputs": [
    {
     "data": {
      "text/html": [
       "<style>#sk-container-id-3 {color: black;background-color: white;}#sk-container-id-3 pre{padding: 0;}#sk-container-id-3 div.sk-toggleable {background-color: white;}#sk-container-id-3 label.sk-toggleable__label {cursor: pointer;display: block;width: 100%;margin-bottom: 0;padding: 0.3em;box-sizing: border-box;text-align: center;}#sk-container-id-3 label.sk-toggleable__label-arrow:before {content: \"▸\";float: left;margin-right: 0.25em;color: #696969;}#sk-container-id-3 label.sk-toggleable__label-arrow:hover:before {color: black;}#sk-container-id-3 div.sk-estimator:hover label.sk-toggleable__label-arrow:before {color: black;}#sk-container-id-3 div.sk-toggleable__content {max-height: 0;max-width: 0;overflow: hidden;text-align: left;background-color: #f0f8ff;}#sk-container-id-3 div.sk-toggleable__content pre {margin: 0.2em;color: black;border-radius: 0.25em;background-color: #f0f8ff;}#sk-container-id-3 input.sk-toggleable__control:checked~div.sk-toggleable__content {max-height: 200px;max-width: 100%;overflow: auto;}#sk-container-id-3 input.sk-toggleable__control:checked~label.sk-toggleable__label-arrow:before {content: \"▾\";}#sk-container-id-3 div.sk-estimator input.sk-toggleable__control:checked~label.sk-toggleable__label {background-color: #d4ebff;}#sk-container-id-3 div.sk-label input.sk-toggleable__control:checked~label.sk-toggleable__label {background-color: #d4ebff;}#sk-container-id-3 input.sk-hidden--visually {border: 0;clip: rect(1px 1px 1px 1px);clip: rect(1px, 1px, 1px, 1px);height: 1px;margin: -1px;overflow: hidden;padding: 0;position: absolute;width: 1px;}#sk-container-id-3 div.sk-estimator {font-family: monospace;background-color: #f0f8ff;border: 1px dotted black;border-radius: 0.25em;box-sizing: border-box;margin-bottom: 0.5em;}#sk-container-id-3 div.sk-estimator:hover {background-color: #d4ebff;}#sk-container-id-3 div.sk-parallel-item::after {content: \"\";width: 100%;border-bottom: 1px solid gray;flex-grow: 1;}#sk-container-id-3 div.sk-label:hover label.sk-toggleable__label {background-color: #d4ebff;}#sk-container-id-3 div.sk-serial::before {content: \"\";position: absolute;border-left: 1px solid gray;box-sizing: border-box;top: 0;bottom: 0;left: 50%;z-index: 0;}#sk-container-id-3 div.sk-serial {display: flex;flex-direction: column;align-items: center;background-color: white;padding-right: 0.2em;padding-left: 0.2em;position: relative;}#sk-container-id-3 div.sk-item {position: relative;z-index: 1;}#sk-container-id-3 div.sk-parallel {display: flex;align-items: stretch;justify-content: center;background-color: white;position: relative;}#sk-container-id-3 div.sk-item::before, #sk-container-id-3 div.sk-parallel-item::before {content: \"\";position: absolute;border-left: 1px solid gray;box-sizing: border-box;top: 0;bottom: 0;left: 50%;z-index: -1;}#sk-container-id-3 div.sk-parallel-item {display: flex;flex-direction: column;z-index: 1;position: relative;background-color: white;}#sk-container-id-3 div.sk-parallel-item:first-child::after {align-self: flex-end;width: 50%;}#sk-container-id-3 div.sk-parallel-item:last-child::after {align-self: flex-start;width: 50%;}#sk-container-id-3 div.sk-parallel-item:only-child::after {width: 0;}#sk-container-id-3 div.sk-dashed-wrapped {border: 1px dashed gray;margin: 0 0.4em 0.5em 0.4em;box-sizing: border-box;padding-bottom: 0.4em;background-color: white;}#sk-container-id-3 div.sk-label label {font-family: monospace;font-weight: bold;display: inline-block;line-height: 1.2em;}#sk-container-id-3 div.sk-label-container {text-align: center;}#sk-container-id-3 div.sk-container {/* jupyter's `normalize.less` sets `[hidden] { display: none; }` but bootstrap.min.css set `[hidden] { display: none !important; }` so we also need the `!important` here to be able to override the default hidden behavior on the sphinx rendered scikit-learn.org. See: https://github.com/scikit-learn/scikit-learn/issues/21755 */display: inline-block !important;position: relative;}#sk-container-id-3 div.sk-text-repr-fallback {display: none;}</style><div id=\"sk-container-id-3\" class=\"sk-top-container\"><div class=\"sk-text-repr-fallback\"><pre>Pipeline(steps=[(&#x27;onehotencoder&#x27;,\n",
       "                 OneHotEncoder(cols=[&#x27;borough&#x27;], use_cat_names=True)),\n",
       "                (&#x27;simpleimputer&#x27;, SimpleImputer()), (&#x27;ridge&#x27;, Ridge())])</pre><b>In a Jupyter environment, please rerun this cell to show the HTML representation or trust the notebook. <br />On GitHub, the HTML representation is unable to render, please try loading this page with nbviewer.org.</b></div><div class=\"sk-container\" hidden><div class=\"sk-item sk-dashed-wrapped\"><div class=\"sk-label-container\"><div class=\"sk-label sk-toggleable\"><input class=\"sk-toggleable__control sk-hidden--visually\" id=\"sk-estimator-id-9\" type=\"checkbox\" ><label for=\"sk-estimator-id-9\" class=\"sk-toggleable__label sk-toggleable__label-arrow\">Pipeline</label><div class=\"sk-toggleable__content\"><pre>Pipeline(steps=[(&#x27;onehotencoder&#x27;,\n",
       "                 OneHotEncoder(cols=[&#x27;borough&#x27;], use_cat_names=True)),\n",
       "                (&#x27;simpleimputer&#x27;, SimpleImputer()), (&#x27;ridge&#x27;, Ridge())])</pre></div></div></div><div class=\"sk-serial\"><div class=\"sk-item\"><div class=\"sk-estimator sk-toggleable\"><input class=\"sk-toggleable__control sk-hidden--visually\" id=\"sk-estimator-id-10\" type=\"checkbox\" ><label for=\"sk-estimator-id-10\" class=\"sk-toggleable__label sk-toggleable__label-arrow\">OneHotEncoder</label><div class=\"sk-toggleable__content\"><pre>OneHotEncoder(cols=[&#x27;borough&#x27;], use_cat_names=True)</pre></div></div></div><div class=\"sk-item\"><div class=\"sk-estimator sk-toggleable\"><input class=\"sk-toggleable__control sk-hidden--visually\" id=\"sk-estimator-id-11\" type=\"checkbox\" ><label for=\"sk-estimator-id-11\" class=\"sk-toggleable__label sk-toggleable__label-arrow\">SimpleImputer</label><div class=\"sk-toggleable__content\"><pre>SimpleImputer()</pre></div></div></div><div class=\"sk-item\"><div class=\"sk-estimator sk-toggleable\"><input class=\"sk-toggleable__control sk-hidden--visually\" id=\"sk-estimator-id-12\" type=\"checkbox\" ><label for=\"sk-estimator-id-12\" class=\"sk-toggleable__label sk-toggleable__label-arrow\">Ridge</label><div class=\"sk-toggleable__content\"><pre>Ridge()</pre></div></div></div></div></div></div></div>"
      ],
      "text/plain": [
       "Pipeline(steps=[('onehotencoder',\n",
       "                 OneHotEncoder(cols=['borough'], use_cat_names=True)),\n",
       "                ('simpleimputer', SimpleImputer()), ('ridge', Ridge())])"
      ]
     },
     "execution_count": 30,
     "metadata": {},
     "output_type": "execute_result"
    }
   ],
   "source": [
    "# Build Model\n",
    "model = make_pipeline(\n",
    "    OneHotEncoder(use_cat_names=True),\n",
    "    SimpleImputer(),\n",
    "    Ridge()\n",
    ")\n",
    "# Fit model\n",
    "model.fit(X_train, y_train)"
   ]
  },
  {
   "cell_type": "code",
   "execution_count": 24,
   "id": "10d3c16a",
   "metadata": {},
   "outputs": [
    {
     "name": "stdout",
     "output_type": "stream",
     "text": [
      "<class 'pandas.core.frame.DataFrame'>\n",
      "RangeIndex: 1041 entries, 0 to 1040\n",
      "Data columns (total 5 columns):\n",
      " #   Column                 Non-Null Count  Dtype  \n",
      "---  ------                 --------------  -----  \n",
      " 0   Unnamed: 0             1041 non-null   int64  \n",
      " 1   surface_covered_in_m2  1041 non-null   int64  \n",
      " 2   lat                    986 non-null    float64\n",
      " 3   lon                    986 non-null    float64\n",
      " 4   borough                1041 non-null   object \n",
      "dtypes: float64(2), int64(2), object(1)\n",
      "memory usage: 40.8+ KB\n",
      "None\n",
      "<class 'pandas.core.frame.DataFrame'>\n",
      "RangeIndex: 1041 entries, 0 to 1040\n",
      "Data columns (total 5 columns):\n",
      " #   Column                 Non-Null Count  Dtype  \n",
      "---  ------                 --------------  -----  \n",
      " 0   Unnamed: 0             1041 non-null   int64  \n",
      " 1   surface_covered_in_m2  1041 non-null   int64  \n",
      " 2   lat                    986 non-null    float64\n",
      " 3   lon                    986 non-null    float64\n",
      " 4   borough                1041 non-null   object \n",
      "dtypes: float64(2), int64(2), object(1)\n",
      "memory usage: 40.8+ KB\n",
      "None\n"
     ]
    },
    {
     "data": {
      "text/html": [
       "<div>\n",
       "<style scoped>\n",
       "    .dataframe tbody tr th:only-of-type {\n",
       "        vertical-align: middle;\n",
       "    }\n",
       "\n",
       "    .dataframe tbody tr th {\n",
       "        vertical-align: top;\n",
       "    }\n",
       "\n",
       "    .dataframe thead th {\n",
       "        text-align: right;\n",
       "    }\n",
       "</style>\n",
       "<table border=\"1\" class=\"dataframe\">\n",
       "  <thead>\n",
       "    <tr style=\"text-align: right;\">\n",
       "      <th></th>\n",
       "      <th>Unnamed: 0</th>\n",
       "      <th>surface_covered_in_m2</th>\n",
       "      <th>lat</th>\n",
       "      <th>lon</th>\n",
       "      <th>borough</th>\n",
       "    </tr>\n",
       "  </thead>\n",
       "  <tbody>\n",
       "    <tr>\n",
       "      <th>0</th>\n",
       "      <td>1</td>\n",
       "      <td>60</td>\n",
       "      <td>19.493185</td>\n",
       "      <td>-99.205755</td>\n",
       "      <td>Azcapotzalco</td>\n",
       "    </tr>\n",
       "    <tr>\n",
       "      <th>1</th>\n",
       "      <td>2</td>\n",
       "      <td>55</td>\n",
       "      <td>19.307247</td>\n",
       "      <td>-99.166700</td>\n",
       "      <td>Coyoac?n</td>\n",
       "    </tr>\n",
       "    <tr>\n",
       "      <th>2</th>\n",
       "      <td>3</td>\n",
       "      <td>50</td>\n",
       "      <td>19.363469</td>\n",
       "      <td>-99.010141</td>\n",
       "      <td>Iztapalapa</td>\n",
       "    </tr>\n",
       "    <tr>\n",
       "      <th>3</th>\n",
       "      <td>4</td>\n",
       "      <td>60</td>\n",
       "      <td>19.474655</td>\n",
       "      <td>-99.189277</td>\n",
       "      <td>Azcapotzalco</td>\n",
       "    </tr>\n",
       "    <tr>\n",
       "      <th>4</th>\n",
       "      <td>5</td>\n",
       "      <td>74</td>\n",
       "      <td>19.394628</td>\n",
       "      <td>-99.143842</td>\n",
       "      <td>Benito Ju?rez</td>\n",
       "    </tr>\n",
       "  </tbody>\n",
       "</table>\n",
       "</div>"
      ],
      "text/plain": [
       "   Unnamed: 0  surface_covered_in_m2        lat        lon        borough\n",
       "0           1                     60  19.493185 -99.205755   Azcapotzalco\n",
       "1           2                     55  19.307247 -99.166700       Coyoac?n\n",
       "2           3                     50  19.363469 -99.010141     Iztapalapa\n",
       "3           4                     60  19.474655 -99.189277   Azcapotzalco\n",
       "4           5                     74  19.394628 -99.143842  Benito Ju?rez"
      ]
     },
     "execution_count": 24,
     "metadata": {},
     "output_type": "execute_result"
    }
   ],
   "source": [
    "X_test = pd.read_csv(\"E:/Fahimeh pt/Mexico city Appartment price/Mexico city test features.csv\")\n",
    "print(X_test.info())\n",
    "X_test.head()\n",
    "X_test = pd.read_csv(\"E:/Fahimeh pt/Mexico city Appartment price/Mexico city test features.csv\")\n",
    "print(X_test.info())\n",
    "X_test.head()"
   ]
  },
  {
   "cell_type": "code",
   "execution_count": 25,
   "id": "be9bad56",
   "metadata": {},
   "outputs": [
    {
     "data": {
      "text/plain": [
       "borough_Tl?huac                   14166.9\n",
       "borough_Iztapalapa                13349.0\n",
       "borough_Gustavo A. Madero          6637.4\n",
       "borough_La Magdalena Contreras     5925.7\n",
       "borough_Venustiano Carranza        5609.9\n",
       "lon                                2492.2\n",
       "borough_Cuauhtémoc                  350.5\n",
       "surface_covered_in_m2               291.7\n",
       "borough_Iztacalco                   405.4\n",
       "lat                                 478.9\n",
       "borough_Xochimilco                  929.9\n",
       "borough_Miguel Hidalgo             1977.3\n",
       "borough_Azcapotzalco               2459.3\n",
       "borough_?lvaro Obreg?n             3275.1\n",
       "borough_Coyoac?n                   3737.6\n",
       "borough_Cuajimalpa de Morelos      9157.3\n",
       "borough_Tlalpan                   10319.4\n",
       "borough_Benito Ju?rez             13778.2\n",
       "dtype: float64"
      ]
     },
     "execution_count": 25,
     "metadata": {},
     "output_type": "execute_result"
    }
   ],
   "source": [
    "# coefficients = ...\n",
    "# features = [\"surface_covered_in_m2\",\"lat\",\"lon\",\"borough\"]\n",
    "# feat_imp = ...\n",
    "# feat_imp\n",
    "\n",
    "coefficients = model.named_steps[\"ridge\"].coef_.round(1)\n",
    "features = model.named_steps[\"onehotencoder\"].get_feature_names()\n",
    "feat_imp = pd.Series(coefficients, index=features)\n",
    "feat_imp.sort_values(ascending=True).abs()"
   ]
  },
  {
   "cell_type": "code",
   "execution_count": 28,
   "id": "6ba0e29f",
   "metadata": {},
   "outputs": [
    {
     "data": {
      "text/plain": [
       "Text(0.5, 1.0, 'Feature Importance for Appartmant Price')"
      ]
     },
     "execution_count": 28,
     "metadata": {},
     "output_type": "execute_result"
    },
    {
     "data": {
      "image/png": "[encoded data removed]",
      "text/plain": [
       "<Figure size 640x480 with 1 Axes>"
      ]
     },
     "metadata": {},
     "output_type": "display_data"
    }
   ],
   "source": [
    "# Build bar chart\n",
    "feat_imp\n",
    "feat_imp.sort_values(key=abs).tail(10).plot(kind=\"barh\")\n",
    "# Label axes\n",
    "plt.xlabel(\"Importance[USD]\")\n",
    "plt.ylabel(\"feature\")\n",
    "# Add title\n",
    "plt.title(\"Feature Importance for Appartmant Price\")\n",
    "\n",
    "# plt.savefig(\"images/2-5-13.png\", dpi=150)\n"
   ]
  },
  {
   "cell_type": "code",
   "execution_count": null,
   "id": "3b85dce3",
   "metadata": {},
   "outputs": [],
   "source": []
  }
 ],
 "metadata": {
  "kernelspec": {
   "display_name": "Python 3 (ipykernel)",
   "language": "python",
   "name": "python3"
  },
  "language_info": {
   "codemirror_mode": {
    "name": "ipython",
    "version": 3
   },
   "file_extension": ".py",
   "mimetype": "text/x-python",
   "name": "python",
   "nbconvert_exporter": "python",
   "pygments_lexer": "ipython3",
   "version": "3.10.7"
  }
 },
 "nbformat": 4,
 "nbformat_minor": 5
}
